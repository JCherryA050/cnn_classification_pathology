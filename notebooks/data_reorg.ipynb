{
 "cells": [
  {
   "cell_type": "markdown",
   "source": [
    "# Data Reorganization"
   ],
   "metadata": {}
  },
  {
   "cell_type": "code",
   "execution_count": 3,
   "source": [
    "# Importing applicable libraries\r\n",
    "import matplotlib.pyplot as plt\r\n",
    "import numpy as np\r\n",
    "import pandas as pd \r\n",
    "from keras.preprocessing.image import ImageDataGenerator, load_img\r\n",
    "from keras.utils import to_categorical\r\n",
    "from sklearn.model_selection import train_test_split\r\n",
    "import matplotlib.pyplot as plt\r\n",
    "import random\r\n",
    "import os, shutil\r\n",
    "from glob import glob\r\n",
    "import cv2"
   ],
   "outputs": [
    {
     "output_type": "stream",
     "name": "stdout",
     "text": [
      "['breast', 'dataset-master', 'dataset2-master', 'Documents - Shortcut.lnk', 'histo', 'IDC_regular_ps50_idx5', 'negative', 'positive', 'Test', 'Train', 'Validate']\n"
     ]
    }
   ],
   "metadata": {}
  },
  {
   "cell_type": "markdown",
   "source": [
    "## Data Preperations\n",
    "\n",
    "- Import the data\n",
    "- Separate the data by label\n",
    "- Make new directory system\n",
    "- Store the data in the new folders"
   ],
   "metadata": {}
  },
  {
   "cell_type": "code",
   "execution_count": 4,
   "source": [
    "from glob import glob\r\n",
    "data = glob('../data/IDC_regular_ps50_idx5/**/*.png', recursive=True)"
   ],
   "outputs": [],
   "metadata": {}
  },
  {
   "cell_type": "code",
   "execution_count": 75,
   "source": [
    "# Checking to see if all of the data is accounted for\r\n",
    "len(data)"
   ],
   "outputs": [
    {
     "output_type": "execute_result",
     "data": {
      "text/plain": [
       "277524"
      ]
     },
     "metadata": {},
     "execution_count": 75
    }
   ],
   "metadata": {}
  },
  {
   "cell_type": "code",
   "execution_count": 77,
   "source": [
    "# Separating the IDC-positive and IDC-negative images\r\n",
    "class0 = []\r\n",
    "class1 = []\r\n",
    "for datum in data:\r\n",
    "    if datum.endswith('class0.png'):\r\n",
    "        class0.append((datum.replace(os.path.basename(datum),''),os.path.basename(datum)))\r\n",
    "    else:\r\n",
    "        class1.append((datum.replace(os.path.basename(datum),''),os.path.basename(datum)))"
   ],
   "outputs": [],
   "metadata": {}
  },
  {
   "cell_type": "code",
   "execution_count": 78,
   "source": [
    "# Print out the number of data points by class\r\n",
    "print(\"There are {} files marked as IDC-negative.\".format(len(class0)))\r\n",
    "print(\"There are {} files marked as IDC-positive.\".format(len(class1)))\r\n"
   ],
   "outputs": [
    {
     "output_type": "stream",
     "name": "stdout",
     "text": [
      "There are 50274 files marked as IDC-negative.\n",
      "There are 15354 files marked as IDC-positive.\n"
     ]
    }
   ],
   "metadata": {}
  },
  {
   "cell_type": "code",
   "execution_count": 79,
   "source": [
    "# Setting up the directory system for copying over files\r\n",
    "data_dir = '../data/IDC_regular_ps50_idx5/'\r\n",
    "new_dir = '../data/split/'\r\n"
   ],
   "outputs": [],
   "metadata": {}
  },
  {
   "cell_type": "code",
   "execution_count": 80,
   "source": [
    "# Making the new split directory in the output\r\n",
    "os.mkdir(new_dir)"
   ],
   "outputs": [
    {
     "output_type": "error",
     "ename": "FileExistsError",
     "evalue": "[WinError 183] Cannot create a file when that file already exists: './data/split/'",
     "traceback": [
      "\u001b[1;31m---------------------------------------------------------------------------\u001b[0m",
      "\u001b[1;31mFileExistsError\u001b[0m                           Traceback (most recent call last)",
      "\u001b[1;32m<ipython-input-80-f610ad7c4e96>\u001b[0m in \u001b[0;36m<module>\u001b[1;34m\u001b[0m\n\u001b[0;32m      1\u001b[0m \u001b[1;31m# Making the new split directory in the output\u001b[0m\u001b[1;33m\u001b[0m\u001b[1;33m\u001b[0m\u001b[1;33m\u001b[0m\u001b[0m\n\u001b[1;32m----> 2\u001b[1;33m \u001b[0mos\u001b[0m\u001b[1;33m.\u001b[0m\u001b[0mmkdir\u001b[0m\u001b[1;33m(\u001b[0m\u001b[0mnew_dir\u001b[0m\u001b[1;33m)\u001b[0m\u001b[1;33m\u001b[0m\u001b[1;33m\u001b[0m\u001b[0m\n\u001b[0m",
      "\u001b[1;31mFileExistsError\u001b[0m: [WinError 183] Cannot create a file when that file already exists: './data/split/'"
     ]
    }
   ],
   "metadata": {}
  },
  {
   "cell_type": "code",
   "execution_count": 49,
   "source": [
    "# defining the train, test, validation folder paths\r\n",
    "train_folder = os.path.join(new_dir, 'train')\r\n",
    "train_pos  = os.path.join(train_folder, 'positive')\r\n",
    "train_neg = os.path.join(train_folder, 'negative')\r\n",
    "\r\n",
    "test_folder = os.path.join(new_dir, 'test')\r\n",
    "test_pos  = os.path.join(test_folder, 'positive')\r\n",
    "test_neg = os.path.join(test_folder, 'negative')\r\n",
    "\r\n",
    "val_folder = os.path.join(new_dir, 'validation')\r\n",
    "val_pos  = os.path.join(val_folder, 'positive')\r\n",
    "val_neg = os.path.join(val_folder, 'negative')"
   ],
   "outputs": [],
   "metadata": {}
  },
  {
   "cell_type": "code",
   "execution_count": 50,
   "source": [
    "# Creating the train, test, validation folders\r\n",
    "os.mkdir(test_folder)\r\n",
    "os.mkdir(test_pos)\r\n",
    "os.mkdir(test_neg)\r\n",
    "\r\n",
    "os.mkdir(train_folder)\r\n",
    "os.mkdir(train_pos)\r\n",
    "os.mkdir(train_neg)\r\n",
    "\r\n",
    "os.mkdir(val_folder)\r\n",
    "os.mkdir(val_pos)\r\n",
    "os.mkdir(val_neg)"
   ],
   "outputs": [],
   "metadata": {}
  },
  {
   "cell_type": "code",
   "execution_count": 54,
   "source": [
    "# Copying over the images into new directory\r\n",
    "\r\n",
    "# train IDC-positive\r\n",
    "imgs = class1[:int(np.round(len(class1)*0.6,0))]\r\n",
    "for img in imgs:\r\n",
    "    origin = os.path.join(img[0], img[1])\r\n",
    "    destination = os.path.join(train_pos, img[1])\r\n",
    "    shutil.copyfile(origin, destination)\r\n",
    "\r\n",
    "# validation IDC-positive\r\n",
    "imgs = class1[int(np.round(len(class1)*0.6,0)):int(np.round(len(class1)*0.8,0))]\r\n",
    "for img in imgs:\r\n",
    "    origin = os.path.join(img[0], img[1])\r\n",
    "    destination = os.path.join(val_pos, img[1])\r\n",
    "    shutil.copyfile(origin, destination)\r\n",
    "\r\n",
    "# test IDC-positive\r\n",
    "imgs = class1[int(np.round(len(class1)*0.8,0)):]\r\n",
    "for img in imgs:\r\n",
    "    origin = os.path.join(img[0], img[1])\r\n",
    "    destination = os.path.join(test_pos, img[1])\r\n",
    "    shutil.copyfile(origin, destination)\r\n",
    "\r\n",
    "# train IDC-negative\r\n",
    "imgs = class0[:int(np.round(len(class0)*0.6,0))]\r\n",
    "for img in imgs:\r\n",
    "    origin = os.path.join(img[0], img[1])\r\n",
    "    destination = os.path.join(train_neg, img[1])\r\n",
    "    shutil.copyfile(origin, destination)\r\n",
    "\r\n",
    "# test IDC-negative\r\n",
    "imgs = class0[int(np.round(len(class0)*0.6,0)):int(np.round(len(class0)*0.8,0))]\r\n",
    "for img in imgs:\r\n",
    "    origin = os.path.join(img[0], img[1])\r\n",
    "    destination = os.path.join(test_neg, img[1])\r\n",
    "    shutil.copyfile(origin, destination)\r\n",
    "\r\n",
    "# validation IDC-negative\r\n",
    "imgs = class0[int(np.round(len(class0)*0.8,0)):]\r\n",
    "for img in imgs:\r\n",
    "    origin = os.path.join(img[0], img[1])\r\n",
    "    destination = os.path.join(val_neg, img[1])\r\n",
    "    shutil.copyfile(origin, destination)"
   ],
   "outputs": [],
   "metadata": {}
  },
  {
   "cell_type": "markdown",
   "source": [
    "Looking at the amount of data in each folder to make sure all of it is accounted for and that each set has the same ratio of neg/pos images."
   ],
   "metadata": {}
  },
  {
   "cell_type": "code",
   "execution_count": 81,
   "source": [
    "# Printing out the number of data points in each folder by class\r\n",
    "print('There are', len(os.listdir(train_pos)), 'IDC-positive images in the training set.')\r\n",
    "print('There are', len(os.listdir(train_neg)), 'IDC-negative images in the training set.\\n')\r\n",
    "\r\n",
    "print('There are', len(os.listdir(val_pos)), 'IDC-positive images in the validation set.')\r\n",
    "print('There are', len(os.listdir(val_neg)), 'IDC-negative images in the validation set.\\n')\r\n",
    "\r\n",
    "print('There are', len(os.listdir(test_pos)), 'IDC-positive images in the test set.')\r\n",
    "print('There are', len(os.listdir(test_neg)), 'IDC-negative images in the test set.\\n')"
   ],
   "outputs": [
    {
     "output_type": "stream",
     "name": "stdout",
     "text": [
      "There are 11378 IDC-positive images in the training set.\n",
      "There are 37306 IDC-negative images in the training set.\n",
      "\n",
      "There are 3793 IDC-positive images in the validation set.\n",
      "There are 12435 IDC-negative images in the validation set.\n",
      "\n",
      "There are 3793 IDC-positive images in the test set.\n",
      "There are 12436 IDC-negative images in the test set.\n",
      "\n"
     ]
    }
   ],
   "metadata": {}
  }
 ],
 "metadata": {
  "kernelspec": {
   "display_name": "Python 3",
   "language": "python",
   "name": "python3"
  },
  "language_info": {
   "codemirror_mode": {
    "name": "ipython",
    "version": 3
   },
   "file_extension": ".py",
   "mimetype": "text/x-python",
   "name": "python",
   "nbconvert_exporter": "python",
   "pygments_lexer": "ipython3",
   "version": "3.8.5"
  }
 },
 "nbformat": 4,
 "nbformat_minor": 4
}