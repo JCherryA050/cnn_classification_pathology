{
 "cells": [
  {
   "cell_type": "code",
   "execution_count": null,
   "metadata": {},
   "outputs": [],
   "source": []
  },
  {
   "cell_type": "markdown",
   "metadata": {},
   "source": [
    "# Divide and Patch\r\n",
    "\r\n",
    "This notebook defines the functions for dividing an image into 50x50px patches for processing."
   ]
  },
  {
   "cell_type": "code",
   "execution_count": 4,
   "metadata": {},
   "outputs": [],
   "source": [
    "# Standard Imports\r\n",
    "import numpy as np\r\n",
    "\r\n",
    "# Importing all relevant packages for modeling in keras\r\n",
    "from tensorflow.keras.layers import Dense,Dropout,BatchNormalization,Conv2D,MaxPool2D,Flatten\r\n",
    "from tensorflow.keras.models import Sequential\r\n",
    "from tensorflow.keras import regularizers\r\n",
    "from tensorflow.keras import layers\r\n",
    "from tensorflow.keras.applications import EfficientNetB0\r\n",
    "from tensorflow.keras.layers.experimental import preprocessing\r\n",
    "from tensorflow.keras.models import Sequential\r\n",
    "from tensorflow.keras import models, layers\r\n",
    "from tensorflow.keras.optimizers import Adam\r\n",
    "from tensorflow.keras.preprocessing.image import ImageDataGenerator, array_to_img, img_to_array, load_img\r\n",
    "from tensorflow.keras.callbacks import ModelCheckpoint, EarlyStopping\r\n",
    "from tensorflow.keras.models import load_model\r\n",
    "\r\n",
    "# Import packages for showing the performance metrics\r\n",
    "from sklearn.metrics importsrc import eval_plots\r\n",
    "\r\n",
    "from glob import glob\r\n",
    "import cv2\r\n",
    "import os\r\n",
    "from PIL import Image\r\n",
    "\r\n",
    "# Setting the random seed for reproducability\r\n",
    "np.random.seed(123)"
   ]
  },
  {
   "cell_type": "code",
   "execution_count": 5,
   "metadata": {},
   "outputs": [],
   "source": [
    "# Open full image \r\n",
    "img = Image.open('./.../imageswhole_slide_images//9037.jpg')"
   ]
  },
  {
   "cell_type": "code",
   "execution_count": 7,
   "metadata": {},
   "outputs": [],
   "source": [
    "\r\n",
    "# Opens a image in RGB mode\r\n",
    "image_name = '9037'\r\n",
    "img = Image.open./..('./imagwhole_slide_images/es/'+image_name+'.jpg')\r\n",
    "height_num = img.height/50\r\n",
    "width_num = img.width/50\r\n"
   ]
  },
  {
   "cell_type": "code",
   "execution_count": 8,
   "metadata": {},
   "outputs": [
    {
     "output_type": "execute_result",
     "data": {
      "text/plain": [
       "28.0"
      ]
     },
     "metadata": {},
     "execution_count": 8
    }
   ],
   "source": [
    "height_num"
   ]
  },
  {
   "cell_type": "code",
   "execution_count": 5,
   "metadata": {},
   "outputs": [],
   "source": [
    "for i in range(0,int(height_num)):\r\n",
    "    for j in range(0,int(width_num)):\r\n",
    "\r\n",
    "        # Setting the points for cropped image\r\n",
    "        left = 0 + 50*j\r\n",
    "        top = 0 + 50*i\r\n",
    "        right = 50 + 50*j\r\n",
    "        bottom = 50 + 50*i\r\n",
    "\r\n",
    "        # Cropped image of above dimension\r\n",
    "        # (It will not change original image)\r\n",
    "        im1 = img.crop((left, top, right, bottom))\r\n",
    "        \r\n",
    "        # Shows the image in image viewer\r\n",
    "        # os.mkdir('./test/9037_split')\r\n",
    "        im1.save('./test/9037_split/'+image_name+'_'+str(right)+'_'+str(bottom)+'.png')\r\n"
   ]
  },
  {
   "cell_type": "code",
   "execution_count": 14,
   "metadata": {},
   "outputs": [],
   "source": [
    "data = glob('../../test/9037_split/*.png')"
   ]
  },
  {
   "cell_type": "code",
   "execution_count": 7,
   "metadata": {},
   "outputs": [
    {
     "data": {
      "text/plain": [
       "1260"
      ]
     },
     "execution_count": 7,
     "metadata": {},
     "output_type": "execute_result"
    }
   ],
   "source": [
    "len(data)"
   ]
  },
  {
   "cell_type": "code",
   "execution_count": 9,
   "metadata": {},
   "outputs": [],
   "source": [
    "import tensorflow as tf\r\n",
    "from tensorflow.keras.applications.resnet50 import preprocess_input, decode_predictions\r\n",
    "from tensorflow.keras.preprocessing import image"
   ]
  },
  {
   "cell_type": "code",
   "execution_count": 11,
   "metadata": {},
   "outputs": [],
   "source": [
    "model = models.load_model('../../models/fsm_reg.h5')"
   ]
  },
  {
   "cell_type": "code",
   "execution_count": 15,
   "metadata": {},
   "outputs": [],
   "source": [
    "def make_prediction(img_path,target_size):\r\n",
    "    img = image.load_img(img_path,target_size=target_size)\r\n",
    "    img_array = image.img_to_array(img)\r\n",
    "    img_batch = np.expand_dims(img_array,axis=0)\r\n",
    "    # img_preprocessed = preprocess_input(img_array)\r\n",
    "    return float(model.predict(img_batch/255))"
   ]
  },
  {
   "cell_type": "code",
   "execution_count": 16,
   "metadata": {},
   "outputs": [],
   "source": [
    "img = image.load_img(data[0],(50,50))\r\n",
    "img_array = image.img_to_array(img)\r\n",
    "img_batch = np.expand_dims(img_array,axis=0)\r\n"
   ]
  },
  {
   "cell_type": "code",
   "execution_count": 19,
   "metadata": {},
   "outputs": [],
   "source": [
    "predictions = []\r\n",
    "for path in data:\r\n",
    "    predictions.append(make_prediction(pa,(100,100)th))"
   ]
  },
  {
   "cell_type": "code",
   "execution_count": 20,
   "metadata": {},
   "outputs": [],
   "source": [
    "predictions_array = np.array(predictions)"
   ]
  },
  {
   "cell_type": "code",
   "execution_count": 101,
   "metadata": {},
   "outputs": [
    {
     "output_type": "execute_result",
     "data": {
      "text/plain": [
       "1260"
      ]
     },
     "metadata": {},
     "execution_count": 101
    }
   ],
   "source": [
    "len(predictions_array)"
   ]
  },
  {
   "cell_type": "code",
   "execution_count": 22,
   "metadata": {},
   "outputs": [],
   "source": [
    "normalized_predictions = (predictions_array - min(predictions_array))/(max(predictions_array) - min(predictions_array))"
   ]
  },
  {
   "cell_type": "code",
   "execution_count": 23,
   "metadata": {},
   "outputs": [],
   "source": [
    "# Separating file name from the path of the file\r\n",
    "files = []\r\n",
    "for datum in data:\r\n",
    "        files.append(os.path.basename(datum))\r\n",
    "\r\n",
    "# removing the .png from the file names and isolating the x, y positions of the images\r\n",
    "x = []\r\n",
    "y = []\r\n",
    "for file in files:\r\n",
    "    # isolating the x and y coordinates of the image and converting to int type\r\n",
    "    x.append(int(file.split('_')[1]))\r\n",
    "    y.append(int(file.split('_')[2].replace('.png','')))\r\n",
    "\r\n"
   ]
  },
  {
   "cell_type": "code",
   "execution_count": 45,
   "metadata": {},
   "outputs": [
    {
     "output_type": "execute_result",
     "data": {
      "text/plain": [
       "['../../data/IDC_regular_ps50_idx5/9037\\\\0\\\\9037_idx5_x1001_y1001_class0.png',\n",
       " '../../data/IDC_regular_ps50_idx5/9037\\\\0\\\\9037_idx5_x1001_y101_class0.png',\n",
       " '../../data/IDC_regular_ps50_idx5/9037\\\\0\\\\9037_idx5_x1001_y1051_class0.png',\n",
       " '../../data/IDC_regular_ps50_idx5/9037\\\\0\\\\9037_idx5_x1001_y1101_class0.png',\n",
       " '../../data/IDC_regular_ps50_idx5/9037\\\\0\\\\9037_idx5_x1001_y1151_class0.png',\n",
       " '../../data/IDC_regular_ps50_idx5/9037\\\\0\\\\9037_idx5_x1001_y1201_class0.png',\n",
       " '../../data/IDC_regular_ps50_idx5/9037\\\\0\\\\9037_idx5_x1001_y1251_class0.png',\n",
       " '../../data/IDC_regular_ps50_idx5/9037\\\\0\\\\9037_idx5_x1001_y1301_class0.png',\n",
       " '../../data/IDC_regular_ps50_idx5/9037\\\\0\\\\9037_idx5_x1001_y151_class0.png',\n",
       " '../../data/IDC_regular_ps50_idx5/9037\\\\0\\\\9037_idx5_x1001_y201_class0.png']"
      ]
     },
     "metadata": {},
     "execution_count": 45
    }
   ],
   "source": [
    "data = glob('../../data/IDC_regular_ps50_idx5/9037/**/*.png')\n",
    "data[:10]"
   ]
  },
  {
   "cell_type": "code",
   "execution_count": 104,
   "metadata": {},
   "outputs": [],
   "source": [
    "def patch_to_whole(data,key_term):\n",
    "\n",
    "    # Separating file name from the path of the file\n",
    "    files = []\n",
    "    for datum in data:\n",
    "            files.append(os.path.basename(datum))\n",
    "\n",
    "    # removing the .png from the file names and isolating the x, y positions of the images\n",
    "    x = []\n",
    "    y = []\n",
    "    for file in files:\n",
    "        # isolating the x and y coordinates of the image and converting to int type\n",
    "        x.append(int(file.split('_')[2].replace('x','')))\n",
    "        y.append(int(file.split('_')[3].replace('y','')))\n",
    "        # Initialize the full image space\n",
    "\n",
    "    full_image = Image.new('RGB',(max(x)-min(x),max(y)-min(y)),color='#f2f2f5')\n",
    "    count = 0\n",
    "=     0\r\n",
    "for datum in da        \n",
    "    # Isolate the file         \r\n",
    "    file = os.path.basename(da        \r\n",
    "\r\n",
    "    # grab the location of the image from t        x = (int(file.split('_')[2].replace('x','')))\n",
    "        y = (int(file.split('_')[3].replace('y',''))).        case = file.split('_')[-1].replace('.png','')\n",
    "i    ,(x-51,y-51))\r\n",
    "#     # paste the image int\n",
    "        if key_term == 0:\n",
    "            img = Image.new('RGB',(50,50),color=(int(255*predictions_array[count]),int(255*predictions_array[count]),int(255*predictions_array[count])))o            full_imagece\r\n",
    "    full_sl1de.p1st\n",
    "            count+=1\n",
    "        elif key_term == 1:\n",
    "            # Load the image in using the cv library\n",
    "            img = Image.open(datum)\n",
    "            # paste the image into the image space\n",
    "            full_slide.paste(img,(x-51,y-51))\n",
    "        elif key_term == 2:\n",
    "            # paste the image into the image space\n",
    "            if case == 'class0':\n",
    "                img = Image.new('RGB',(50,50),color='green')\n",
    "                full_slide.paste(img,(x-51,y-51))\n",
    "            else:\n",
    "                img = Image.new('RGB',(50,50),color='red')\n",
    "                full_slide.paste(img,(x-51,y-51))e        else:\n",
    "            print('Not a valid argument.')\n",
    "            break\n",
    "    return full_slide-50))\r\n",
    "    count+=1"
   ]
  },
  {
   "cell_type": "code",
   "execution_count": 110,
   "metadata": {
    "tags": []
   },
   "outputs": [
    {
     "output_type": "execute_result",
     "data": {
      "text/plain": [
       "<PIL.Image.Image image mode=RGB size=2200x1350 at 0x237E3B654C0>"
      ],
      "image/png": "[encoded data removed]"
     },
     "metadata": {},
     "execution_count": 110
    }
   ],
   "source": [
    "patch_to_whole(data,0)"
   ]
  },
  {
   "cell_type": "code",
   "execution_count": 97,
   "metadata": {},
   "outputs": [],
   "source": [
    "def create_all_images():\n",
    "    whole_slide = patch_to_whole(1)\n",
    "    whole_labels = patch_to_whole(2)\n",
    "    whole_heat = patch_to_whole(0)\n",
    "\n",
    "    # Initialize the full image\n",
    "    full_image = Image.new('RGB',(1200,400),color='#f2f2f5')\n",
    "\n",
    "    # Paste the images together\n",
    "    full_image.paste(whole_slide.resize((400,400)),(0,0))\n",
    "    full_image.paste(whole_labels.resize((400,400)),(400,0))\n",
    "    full_image.paste(whole_heat.resize((400,400)),(800,0))\n",
    "    \n",
    "    return full_image"
   ]
  },
  {
   "cell_type": "code",
   "execution_count": 90,
   "metadata": {},
   "outputs": [
    {
     "output_type": "execute_result",
     "data": {
      "text/plain": [
       "<PIL.Image.Image image mode=RGB size=1200x400 at 0x237E3B49B80>"
      ],
      "image/png": "[encoded data removed]"
     },
     "metadata": {},
     "execution_count": 90
    }
   ],
   "source": [
    "create_all_images()"
   ]
  },
  {
   "cell_type": "code",
   "execution_count": 35,
   "metadata": {},
   "outputs": [
    {
     "output_type": "error",
     "ename": "FileNotFoundError",
     "evalue": "[Errno 2] No such file or directory: '9037_whole_slide.png'",
     "traceback": [
      "\u001b[1;31m---------------------------------------------------------------------------\u001b[0m",
      "\u001b[1;31mFileNotFoundError\u001b[0m                         Traceback (most recent call last)",
      "\u001b[1;32m<ipython-input-35-b52666c886f4>\u001b[0m in \u001b[0;36m<module>\u001b[1;34m\u001b[0m\n\u001b[0;32m     14\u001b[0m \u001b[1;33m\u001b[0m\u001b[0m\n\u001b[0;32m     15\u001b[0m \u001b[1;31m# Take two images for blending them together\u001b[0m\u001b[1;33m\u001b[0m\u001b[1;33m\u001b[0m\u001b[1;33m\u001b[0m\u001b[0m\n\u001b[1;32m---> 16\u001b[1;33m \u001b[0mimage1\u001b[0m \u001b[1;33m=\u001b[0m \u001b[0mImage\u001b[0m\u001b[1;33m.\u001b[0m\u001b[0mopen\u001b[0m\u001b[1;33m(\u001b[0m\u001b[1;34m\"9037_whole_slide.png\"\u001b[0m\u001b[1;33m)\u001b[0m\u001b[1;33m\u001b[0m\u001b[1;33m\u001b[0m\u001b[0m\n\u001b[0m\u001b[0;32m     17\u001b[0m \u001b[0mimage2\u001b[0m \u001b[1;33m=\u001b[0m \u001b[0mImage\u001b[0m\u001b[1;33m.\u001b[0m\u001b[0mopen\u001b[0m\u001b[1;33m(\u001b[0m\u001b[1;34m\"9037_predictions.png\"\u001b[0m\u001b[1;33m)\u001b[0m\u001b[1;33m\u001b[0m\u001b[1;33m\u001b[0m\u001b[0m\n\u001b[0;32m     18\u001b[0m \u001b[1;33m\u001b[0m\u001b[0m\n",
      "\u001b[1;32m~\\anaconda3\\envs\\learn-env\\lib\\site-packages\\PIL\\Image.py\u001b[0m in \u001b[0;36mopen\u001b[1;34m(fp, mode, formats)\u001b[0m\n\u001b[0;32m   2889\u001b[0m \u001b[1;33m\u001b[0m\u001b[0m\n\u001b[0;32m   2890\u001b[0m     \u001b[1;32mif\u001b[0m \u001b[0mfilename\u001b[0m\u001b[1;33m:\u001b[0m\u001b[1;33m\u001b[0m\u001b[1;33m\u001b[0m\u001b[0m\n\u001b[1;32m-> 2891\u001b[1;33m         \u001b[0mfp\u001b[0m \u001b[1;33m=\u001b[0m \u001b[0mbuiltins\u001b[0m\u001b[1;33m.\u001b[0m\u001b[0mopen\u001b[0m\u001b[1;33m(\u001b[0m\u001b[0mfilename\u001b[0m\u001b[1;33m,\u001b[0m \u001b[1;34m\"rb\"\u001b[0m\u001b[1;33m)\u001b[0m\u001b[1;33m\u001b[0m\u001b[1;33m\u001b[0m\u001b[0m\n\u001b[0m\u001b[0;32m   2892\u001b[0m         \u001b[0mexclusive_fp\u001b[0m \u001b[1;33m=\u001b[0m \u001b[1;32mTrue\u001b[0m\u001b[1;33m\u001b[0m\u001b[1;33m\u001b[0m\u001b[0m\n\u001b[0;32m   2893\u001b[0m \u001b[1;33m\u001b[0m\u001b[0m\n",
      "\u001b[1;31mFileNotFoundError\u001b[0m: [Errno 2] No such file or directory: '9037_whole_slide.png'"
     ]
    }
   ],
   "source": [
    "# Function to change the image size\r\n",
    "def changeImageSize(maxWidth, \r\n",
    "                    maxHeight, \r\n",
    "                    image):\r\n",
    "    \r\n",
    "    widthRatio  = maxWidth/image.size[0]\r\n",
    "    heightRatio = maxHeight/image.size[1]\r\n",
    "\r\n",
    "    newWidth    = int(widthRatio*image.size[0])\r\n",
    "    newHeight   = int(heightRatio*image.size[1])\r\n",
    "\r\n",
    "    newImage    = image.resize((newWidth, newHeight))\r\n",
    "    return newImage\r\n",
    "\r\n",
    "# Take two images for blending them together   \r\n",
    "image1 = Image.open(\"9037_whole_slide.png\")\r\n",
    "image2 = Image.open(\"9037_predictions.png\")\r\n",
    "\r\n",
    "# Make the images of uniform size\r\n",
    "image3 = changeImageSize(800, 500, image1)\r\n",
    "image4 = changeImageSize(800, 500, image2)\r\n",
    "\r\n",
    "# Make sure images got an alpha channel\r\n",
    "image5 = image3.convert(\"RGBA\")\r\n",
    "image6 = image4.convert(\"RGBA\")\r\n",
    "\r\n",
    "# Display the images\r\n",
    "image5.show()\r\n",
    "image6.show()\r\n",
    "\r\n",
    "# alpha-blend the images with varying values of alpha\r\n",
    "alphaBlended1 = Image.blend(image5, image6, alpha=.2)\r\n",
    "alphaBlended2 = Image.blend(image5, image6, alpha=.6)\r\n",
    "\r\n",
    "# Display the alpha-blended images\r\n",
    "alphaBlended1.show()\r\n",
    "alphaBlended2.show()"
   ]
  },
  {
   "cell_type": "code",
   "execution_count": 24,
   "metadata": {},
   "outputs": [],
   "source": [
    "import pandas as pd\r\n",
    "data_dict = {'x':x,'y':y,'Predictions':predictions}\r\n",
    "df = pd.DataFrame(data_dict)"
   ]
  },
  {
   "cell_type": "code",
   "execution_count": 54,
   "metadata": {},
   "outputs": [],
   "source": [
    "x_proba = df.groupby(x).agg(np.mean)\r\n",
    "y_proba = df.groupby(y).agg(np.mean).sort_values('x',ascending=True)"
   ]
  },
  {
   "cell_type": "code",
   "execution_count": 55,
   "metadata": {},
   "outputs": [
    {
     "data": {
      "text/html": [
       "<div>\n",
       "<style scoped>\n",
       "    .dataframe tbody tr th:only-of-type {\n",
       "        vertical-align: middle;\n",
       "    }\n",
       "\n",
       "    .dataframe tbody tr th {\n",
       "        vertical-align: top;\n",
       "    }\n",
       "\n",
       "    .dataframe thead th {\n",
       "        text-align: right;\n",
       "    }\n",
       "</style>\n",
       "<table border=\"1\" class=\"dataframe\">\n",
       "  <thead>\n",
       "    <tr style=\"text-align: right;\">\n",
       "      <th></th>\n",
       "      <th>xlft</th>\n",
       "      <th>ylft</th>\n",
       "      <th>Predictionslft</th>\n",
       "      <th>x</th>\n",
       "      <th>y</th>\n",
       "      <th>Predictions</th>\n",
       "    </tr>\n",
       "  </thead>\n",
       "  <tbody>\n",
       "    <tr>\n",
       "      <th>50</th>\n",
       "      <td>50</td>\n",
       "      <td>725</td>\n",
       "      <td>0.123232</td>\n",
       "      <td>1150.0</td>\n",
       "      <td>50.0</td>\n",
       "      <td>0.236638</td>\n",
       "    </tr>\n",
       "    <tr>\n",
       "      <th>100</th>\n",
       "      <td>100</td>\n",
       "      <td>725</td>\n",
       "      <td>0.192265</td>\n",
       "      <td>1150.0</td>\n",
       "      <td>100.0</td>\n",
       "      <td>0.370114</td>\n",
       "    </tr>\n",
       "    <tr>\n",
       "      <th>150</th>\n",
       "      <td>150</td>\n",
       "      <td>725</td>\n",
       "      <td>0.227194</td>\n",
       "      <td>1150.0</td>\n",
       "      <td>150.0</td>\n",
       "      <td>0.343114</td>\n",
       "    </tr>\n",
       "    <tr>\n",
       "      <th>200</th>\n",
       "      <td>200</td>\n",
       "      <td>725</td>\n",
       "      <td>0.245346</td>\n",
       "      <td>1150.0</td>\n",
       "      <td>200.0</td>\n",
       "      <td>0.338697</td>\n",
       "    </tr>\n",
       "    <tr>\n",
       "      <th>250</th>\n",
       "      <td>250</td>\n",
       "      <td>725</td>\n",
       "      <td>0.265513</td>\n",
       "      <td>1150.0</td>\n",
       "      <td>250.0</td>\n",
       "      <td>0.353235</td>\n",
       "    </tr>\n",
       "    <tr>\n",
       "      <th>300</th>\n",
       "      <td>300</td>\n",
       "      <td>725</td>\n",
       "      <td>0.199657</td>\n",
       "      <td>1150.0</td>\n",
       "      <td>300.0</td>\n",
       "      <td>0.410596</td>\n",
       "    </tr>\n",
       "    <tr>\n",
       "      <th>350</th>\n",
       "      <td>350</td>\n",
       "      <td>725</td>\n",
       "      <td>0.212809</td>\n",
       "      <td>1150.0</td>\n",
       "      <td>350.0</td>\n",
       "      <td>0.384651</td>\n",
       "    </tr>\n",
       "    <tr>\n",
       "      <th>400</th>\n",
       "      <td>400</td>\n",
       "      <td>725</td>\n",
       "      <td>0.232364</td>\n",
       "      <td>1150.0</td>\n",
       "      <td>400.0</td>\n",
       "      <td>0.387884</td>\n",
       "    </tr>\n",
       "    <tr>\n",
       "      <th>450</th>\n",
       "      <td>450</td>\n",
       "      <td>725</td>\n",
       "      <td>0.185502</td>\n",
       "      <td>1150.0</td>\n",
       "      <td>450.0</td>\n",
       "      <td>0.343818</td>\n",
       "    </tr>\n",
       "    <tr>\n",
       "      <th>500</th>\n",
       "      <td>500</td>\n",
       "      <td>725</td>\n",
       "      <td>0.191755</td>\n",
       "      <td>1150.0</td>\n",
       "      <td>500.0</td>\n",
       "      <td>0.376807</td>\n",
       "    </tr>\n",
       "    <tr>\n",
       "      <th>550</th>\n",
       "      <td>550</td>\n",
       "      <td>725</td>\n",
       "      <td>0.165417</td>\n",
       "      <td>1150.0</td>\n",
       "      <td>550.0</td>\n",
       "      <td>0.453697</td>\n",
       "    </tr>\n",
       "    <tr>\n",
       "      <th>600</th>\n",
       "      <td>600</td>\n",
       "      <td>725</td>\n",
       "      <td>0.160505</td>\n",
       "      <td>1150.0</td>\n",
       "      <td>600.0</td>\n",
       "      <td>0.431572</td>\n",
       "    </tr>\n",
       "    <tr>\n",
       "      <th>650</th>\n",
       "      <td>650</td>\n",
       "      <td>725</td>\n",
       "      <td>0.149258</td>\n",
       "      <td>1150.0</td>\n",
       "      <td>650.0</td>\n",
       "      <td>0.386757</td>\n",
       "    </tr>\n",
       "    <tr>\n",
       "      <th>700</th>\n",
       "      <td>700</td>\n",
       "      <td>725</td>\n",
       "      <td>0.139332</td>\n",
       "      <td>1150.0</td>\n",
       "      <td>700.0</td>\n",
       "      <td>0.352669</td>\n",
       "    </tr>\n",
       "    <tr>\n",
       "      <th>750</th>\n",
       "      <td>750</td>\n",
       "      <td>725</td>\n",
       "      <td>0.188209</td>\n",
       "      <td>1150.0</td>\n",
       "      <td>750.0</td>\n",
       "      <td>0.327556</td>\n",
       "    </tr>\n",
       "    <tr>\n",
       "      <th>800</th>\n",
       "      <td>800</td>\n",
       "      <td>725</td>\n",
       "      <td>0.149725</td>\n",
       "      <td>1150.0</td>\n",
       "      <td>800.0</td>\n",
       "      <td>0.303424</td>\n",
       "    </tr>\n",
       "    <tr>\n",
       "      <th>850</th>\n",
       "      <td>850</td>\n",
       "      <td>725</td>\n",
       "      <td>0.148702</td>\n",
       "      <td>1150.0</td>\n",
       "      <td>850.0</td>\n",
       "      <td>0.292613</td>\n",
       "    </tr>\n",
       "    <tr>\n",
       "      <th>900</th>\n",
       "      <td>900</td>\n",
       "      <td>725</td>\n",
       "      <td>0.142435</td>\n",
       "      <td>1150.0</td>\n",
       "      <td>900.0</td>\n",
       "      <td>0.269914</td>\n",
       "    </tr>\n",
       "    <tr>\n",
       "      <th>950</th>\n",
       "      <td>950</td>\n",
       "      <td>725</td>\n",
       "      <td>0.134155</td>\n",
       "      <td>1150.0</td>\n",
       "      <td>950.0</td>\n",
       "      <td>0.206568</td>\n",
       "    </tr>\n",
       "    <tr>\n",
       "      <th>1000</th>\n",
       "      <td>1000</td>\n",
       "      <td>725</td>\n",
       "      <td>0.111027</td>\n",
       "      <td>1150.0</td>\n",
       "      <td>1000.0</td>\n",
       "      <td>0.232595</td>\n",
       "    </tr>\n",
       "    <tr>\n",
       "      <th>1050</th>\n",
       "      <td>1050</td>\n",
       "      <td>725</td>\n",
       "      <td>0.101305</td>\n",
       "      <td>1150.0</td>\n",
       "      <td>1050.0</td>\n",
       "      <td>0.204222</td>\n",
       "    </tr>\n",
       "    <tr>\n",
       "      <th>1100</th>\n",
       "      <td>1100</td>\n",
       "      <td>725</td>\n",
       "      <td>0.216458</td>\n",
       "      <td>1150.0</td>\n",
       "      <td>1100.0</td>\n",
       "      <td>0.233163</td>\n",
       "    </tr>\n",
       "    <tr>\n",
       "      <th>1150</th>\n",
       "      <td>1150</td>\n",
       "      <td>725</td>\n",
       "      <td>0.222191</td>\n",
       "      <td>1150.0</td>\n",
       "      <td>1150.0</td>\n",
       "      <td>0.267076</td>\n",
       "    </tr>\n",
       "    <tr>\n",
       "      <th>1200</th>\n",
       "      <td>1200</td>\n",
       "      <td>725</td>\n",
       "      <td>0.249003</td>\n",
       "      <td>1150.0</td>\n",
       "      <td>1200.0</td>\n",
       "      <td>0.223143</td>\n",
       "    </tr>\n",
       "    <tr>\n",
       "      <th>1250</th>\n",
       "      <td>1250</td>\n",
       "      <td>725</td>\n",
       "      <td>0.283300</td>\n",
       "      <td>1150.0</td>\n",
       "      <td>1250.0</td>\n",
       "      <td>0.224735</td>\n",
       "    </tr>\n",
       "    <tr>\n",
       "      <th>1300</th>\n",
       "      <td>1300</td>\n",
       "      <td>725</td>\n",
       "      <td>0.403898</td>\n",
       "      <td>1150.0</td>\n",
       "      <td>1300.0</td>\n",
       "      <td>0.140945</td>\n",
       "    </tr>\n",
       "    <tr>\n",
       "      <th>1350</th>\n",
       "      <td>1350</td>\n",
       "      <td>725</td>\n",
       "      <td>0.452720</td>\n",
       "      <td>1150.0</td>\n",
       "      <td>1350.0</td>\n",
       "      <td>0.103718</td>\n",
       "    </tr>\n",
       "    <tr>\n",
       "      <th>1400</th>\n",
       "      <td>1400</td>\n",
       "      <td>725</td>\n",
       "      <td>0.493362</td>\n",
       "      <td>1150.0</td>\n",
       "      <td>1400.0</td>\n",
       "      <td>0.093037</td>\n",
       "    </tr>\n",
       "    <tr>\n",
       "      <th>1450</th>\n",
       "      <td>1450</td>\n",
       "      <td>725</td>\n",
       "      <td>0.478517</td>\n",
       "      <td>NaN</td>\n",
       "      <td>NaN</td>\n",
       "      <td>NaN</td>\n",
       "    </tr>\n",
       "    <tr>\n",
       "      <th>1500</th>\n",
       "      <td>1500</td>\n",
       "      <td>725</td>\n",
       "      <td>0.458196</td>\n",
       "      <td>NaN</td>\n",
       "      <td>NaN</td>\n",
       "      <td>NaN</td>\n",
       "    </tr>\n",
       "    <tr>\n",
       "      <th>1550</th>\n",
       "      <td>1550</td>\n",
       "      <td>725</td>\n",
       "      <td>0.476474</td>\n",
       "      <td>NaN</td>\n",
       "      <td>NaN</td>\n",
       "      <td>NaN</td>\n",
       "    </tr>\n",
       "    <tr>\n",
       "      <th>1600</th>\n",
       "      <td>1600</td>\n",
       "      <td>725</td>\n",
       "      <td>0.468186</td>\n",
       "      <td>NaN</td>\n",
       "      <td>NaN</td>\n",
       "      <td>NaN</td>\n",
       "    </tr>\n",
       "    <tr>\n",
       "      <th>1650</th>\n",
       "      <td>1650</td>\n",
       "      <td>725</td>\n",
       "      <td>0.470958</td>\n",
       "      <td>NaN</td>\n",
       "      <td>NaN</td>\n",
       "      <td>NaN</td>\n",
       "    </tr>\n",
       "    <tr>\n",
       "      <th>1700</th>\n",
       "      <td>1700</td>\n",
       "      <td>725</td>\n",
       "      <td>0.462157</td>\n",
       "      <td>NaN</td>\n",
       "      <td>NaN</td>\n",
       "      <td>NaN</td>\n",
       "    </tr>\n",
       "    <tr>\n",
       "      <th>1750</th>\n",
       "      <td>1750</td>\n",
       "      <td>725</td>\n",
       "      <td>0.465762</td>\n",
       "      <td>NaN</td>\n",
       "      <td>NaN</td>\n",
       "      <td>NaN</td>\n",
       "    </tr>\n",
       "    <tr>\n",
       "      <th>1800</th>\n",
       "      <td>1800</td>\n",
       "      <td>725</td>\n",
       "      <td>0.497571</td>\n",
       "      <td>NaN</td>\n",
       "      <td>NaN</td>\n",
       "      <td>NaN</td>\n",
       "    </tr>\n",
       "    <tr>\n",
       "      <th>1850</th>\n",
       "      <td>1850</td>\n",
       "      <td>725</td>\n",
       "      <td>0.467312</td>\n",
       "      <td>NaN</td>\n",
       "      <td>NaN</td>\n",
       "      <td>NaN</td>\n",
       "    </tr>\n",
       "    <tr>\n",
       "      <th>1900</th>\n",
       "      <td>1900</td>\n",
       "      <td>725</td>\n",
       "      <td>0.485757</td>\n",
       "      <td>NaN</td>\n",
       "      <td>NaN</td>\n",
       "      <td>NaN</td>\n",
       "    </tr>\n",
       "    <tr>\n",
       "      <th>1950</th>\n",
       "      <td>1950</td>\n",
       "      <td>725</td>\n",
       "      <td>0.452986</td>\n",
       "      <td>NaN</td>\n",
       "      <td>NaN</td>\n",
       "      <td>NaN</td>\n",
       "    </tr>\n",
       "    <tr>\n",
       "      <th>2000</th>\n",
       "      <td>2000</td>\n",
       "      <td>725</td>\n",
       "      <td>0.419829</td>\n",
       "      <td>NaN</td>\n",
       "      <td>NaN</td>\n",
       "      <td>NaN</td>\n",
       "    </tr>\n",
       "    <tr>\n",
       "      <th>2050</th>\n",
       "      <td>2050</td>\n",
       "      <td>725</td>\n",
       "      <td>0.435840</td>\n",
       "      <td>NaN</td>\n",
       "      <td>NaN</td>\n",
       "      <td>NaN</td>\n",
       "    </tr>\n",
       "    <tr>\n",
       "      <th>2100</th>\n",
       "      <td>2100</td>\n",
       "      <td>725</td>\n",
       "      <td>0.445645</td>\n",
       "      <td>NaN</td>\n",
       "      <td>NaN</td>\n",
       "      <td>NaN</td>\n",
       "    </tr>\n",
       "    <tr>\n",
       "      <th>2150</th>\n",
       "      <td>2150</td>\n",
       "      <td>725</td>\n",
       "      <td>0.333426</td>\n",
       "      <td>NaN</td>\n",
       "      <td>NaN</td>\n",
       "      <td>NaN</td>\n",
       "    </tr>\n",
       "    <tr>\n",
       "      <th>2200</th>\n",
       "      <td>2200</td>\n",
       "      <td>725</td>\n",
       "      <td>0.331365</td>\n",
       "      <td>NaN</td>\n",
       "      <td>NaN</td>\n",
       "      <td>NaN</td>\n",
       "    </tr>\n",
       "    <tr>\n",
       "      <th>2250</th>\n",
       "      <td>2250</td>\n",
       "      <td>725</td>\n",
       "      <td>0.191351</td>\n",
       "      <td>NaN</td>\n",
       "      <td>NaN</td>\n",
       "      <td>NaN</td>\n",
       "    </tr>\n",
       "  </tbody>\n",
       "</table>\n",
       "</div>"
      ],
      "text/plain": [
       "      xlft  ylft  Predictionslft       x       y  Predictions\n",
       "50      50   725        0.123232  1150.0    50.0     0.236638\n",
       "100    100   725        0.192265  1150.0   100.0     0.370114\n",
       "150    150   725        0.227194  1150.0   150.0     0.343114\n",
       "200    200   725        0.245346  1150.0   200.0     0.338697\n",
       "250    250   725        0.265513  1150.0   250.0     0.353235\n",
       "300    300   725        0.199657  1150.0   300.0     0.410596\n",
       "350    350   725        0.212809  1150.0   350.0     0.384651\n",
       "400    400   725        0.232364  1150.0   400.0     0.387884\n",
       "450    450   725        0.185502  1150.0   450.0     0.343818\n",
       "500    500   725        0.191755  1150.0   500.0     0.376807\n",
       "550    550   725        0.165417  1150.0   550.0     0.453697\n",
       "600    600   725        0.160505  1150.0   600.0     0.431572\n",
       "650    650   725        0.149258  1150.0   650.0     0.386757\n",
       "700    700   725        0.139332  1150.0   700.0     0.352669\n",
       "750    750   725        0.188209  1150.0   750.0     0.327556\n",
       "800    800   725        0.149725  1150.0   800.0     0.303424\n",
       "850    850   725        0.148702  1150.0   850.0     0.292613\n",
       "900    900   725        0.142435  1150.0   900.0     0.269914\n",
       "950    950   725        0.134155  1150.0   950.0     0.206568\n",
       "1000  1000   725        0.111027  1150.0  1000.0     0.232595\n",
       "1050  1050   725        0.101305  1150.0  1050.0     0.204222\n",
       "1100  1100   725        0.216458  1150.0  1100.0     0.233163\n",
       "1150  1150   725        0.222191  1150.0  1150.0     0.267076\n",
       "1200  1200   725        0.249003  1150.0  1200.0     0.223143\n",
       "1250  1250   725        0.283300  1150.0  1250.0     0.224735\n",
       "1300  1300   725        0.403898  1150.0  1300.0     0.140945\n",
       "1350  1350   725        0.452720  1150.0  1350.0     0.103718\n",
       "1400  1400   725        0.493362  1150.0  1400.0     0.093037\n",
       "1450  1450   725        0.478517     NaN     NaN          NaN\n",
       "1500  1500   725        0.458196     NaN     NaN          NaN\n",
       "1550  1550   725        0.476474     NaN     NaN          NaN\n",
       "1600  1600   725        0.468186     NaN     NaN          NaN\n",
       "1650  1650   725        0.470958     NaN     NaN          NaN\n",
       "1700  1700   725        0.462157     NaN     NaN          NaN\n",
       "1750  1750   725        0.465762     NaN     NaN          NaN\n",
       "1800  1800   725        0.497571     NaN     NaN          NaN\n",
       "1850  1850   725        0.467312     NaN     NaN          NaN\n",
       "1900  1900   725        0.485757     NaN     NaN          NaN\n",
       "1950  1950   725        0.452986     NaN     NaN          NaN\n",
       "2000  2000   725        0.419829     NaN     NaN          NaN\n",
       "2050  2050   725        0.435840     NaN     NaN          NaN\n",
       "2100  2100   725        0.445645     NaN     NaN          NaN\n",
       "2150  2150   725        0.333426     NaN     NaN          NaN\n",
       "2200  2200   725        0.331365     NaN     NaN          NaN\n",
       "2250  2250   725        0.191351     NaN     NaN          NaN"
      ]
     },
     "execution_count": 55,
     "metadata": {},
     "output_type": "execute_result"
    }
   ],
   "source": [
    "x_proba.join(y_proba,how='outer',lsuffix='lft')"
   ]
  },
  {
   "cell_type": "code",
   "execution_count": 31,
   "metadata": {},
   "outputs": [
    {
     "name": "stderr",
     "output_type": "stream",
     "text": [
      "C:\\Users\\ajche\\anaconda3\\envs\\learn-env\\lib\\site-packages\\seaborn\\_decorators.py:36: FutureWarning: Pass the following variables as keyword args: x, y. From version 0.12, the only valid positional argument will be `data`, and passing other arguments without an explicit keyword will result in an error or misinterpretation.\n",
      "  warnings.warn(\n"
     ]
    },
    {
     "data": {
      "image/png": "[encoded data removed]",
      "text/plain": [
       "<Figure size 1440x1080 with 1 Axes>"
      ]
     },
     "metadata": {
      "needs_background": "light"
     },
     "output_type": "display_data"
    }
   ],
   "source": [
    "import matplotlib.pyplot as plt\r\n",
    "import seaborn as sns\r\n",
    "fig,ax = plt.subplots(figsize=(20,15))\r\n",
    "sns.barplot(x_proba['Predictions'].index,x_proba['Predictions'].values,color='tab:blue',edgecolor='black');"
   ]
  },
  {
   "cell_type": "code",
   "execution_count": 33,
   "metadata": {},
   "outputs": [
    {
     "data": {
      "text/plain": [
       "<seaborn.axisgrid.JointGrid at 0x1f0ccbbdfd0>"
      ]
     },
     "execution_count": 33,
     "metadata": {},
     "output_type": "execute_result"
    },
    {
     "data": {
      "image/png": "[encoded data removed]",
      "text/plain": [
       "<Figure size 432x432 with 3 Axes>"
      ]
     },
     "metadata": {
      "needs_background": "light"
     },
     "output_type": "display_data"
    }
   ],
   "source": [
    "penguins = sns.load_dataset(\"penguins\")\r\n",
    "sns.jointplot(data=penguins, x=\"bill_length_mm\", y=\"bill_depth_mm\")"
   ]
  },
  {
   "cell_type": "code",
   "execution_count": 34,
   "metadata": {},
   "outputs": [
    {
     "data": {
      "text/html": [
       "<div>\n",
       "<style scoped>\n",
       "    .dataframe tbody tr th:only-of-type {\n",
       "        vertical-align: middle;\n",
       "    }\n",
       "\n",
       "    .dataframe tbody tr th {\n",
       "        vertical-align: top;\n",
       "    }\n",
       "\n",
       "    .dataframe thead th {\n",
       "        text-align: right;\n",
       "    }\n",
       "</style>\n",
       "<table border=\"1\" class=\"dataframe\">\n",
       "  <thead>\n",
       "    <tr style=\"text-align: right;\">\n",
       "      <th></th>\n",
       "      <th>species</th>\n",
       "      <th>island</th>\n",
       "      <th>bill_length_mm</th>\n",
       "      <th>bill_depth_mm</th>\n",
       "      <th>flipper_length_mm</th>\n",
       "      <th>body_mass_g</th>\n",
       "      <th>sex</th>\n",
       "    </tr>\n",
       "  </thead>\n",
       "  <tbody>\n",
       "    <tr>\n",
       "      <th>0</th>\n",
       "      <td>Adelie</td>\n",
       "      <td>Torgersen</td>\n",
       "      <td>39.1</td>\n",
       "      <td>18.7</td>\n",
       "      <td>181.0</td>\n",
       "      <td>3750.0</td>\n",
       "      <td>Male</td>\n",
       "    </tr>\n",
       "    <tr>\n",
       "      <th>1</th>\n",
       "      <td>Adelie</td>\n",
       "      <td>Torgersen</td>\n",
       "      <td>39.5</td>\n",
       "      <td>17.4</td>\n",
       "      <td>186.0</td>\n",
       "      <td>3800.0</td>\n",
       "      <td>Female</td>\n",
       "    </tr>\n",
       "    <tr>\n",
       "      <th>2</th>\n",
       "      <td>Adelie</td>\n",
       "      <td>Torgersen</td>\n",
       "      <td>40.3</td>\n",
       "      <td>18.0</td>\n",
       "      <td>195.0</td>\n",
       "      <td>3250.0</td>\n",
       "      <td>Female</td>\n",
       "    </tr>\n",
       "    <tr>\n",
       "      <th>3</th>\n",
       "      <td>Adelie</td>\n",
       "      <td>Torgersen</td>\n",
       "      <td>NaN</td>\n",
       "      <td>NaN</td>\n",
       "      <td>NaN</td>\n",
       "      <td>NaN</td>\n",
       "      <td>NaN</td>\n",
       "    </tr>\n",
       "    <tr>\n",
       "      <th>4</th>\n",
       "      <td>Adelie</td>\n",
       "      <td>Torgersen</td>\n",
       "      <td>36.7</td>\n",
       "      <td>19.3</td>\n",
       "      <td>193.0</td>\n",
       "      <td>3450.0</td>\n",
       "      <td>Female</td>\n",
       "    </tr>\n",
       "  </tbody>\n",
       "</table>\n",
       "</div>"
      ],
      "text/plain": [
       "  species     island  bill_length_mm  bill_depth_mm  flipper_length_mm  \\\n",
       "0  Adelie  Torgersen            39.1           18.7              181.0   \n",
       "1  Adelie  Torgersen            39.5           17.4              186.0   \n",
       "2  Adelie  Torgersen            40.3           18.0              195.0   \n",
       "3  Adelie  Torgersen             NaN            NaN                NaN   \n",
       "4  Adelie  Torgersen            36.7           19.3              193.0   \n",
       "\n",
       "   body_mass_g     sex  \n",
       "0       3750.0    Male  \n",
       "1       3800.0  Female  \n",
       "2       3250.0  Female  \n",
       "3          NaN     NaN  \n",
       "4       3450.0  Female  "
      ]
     },
     "execution_count": 34,
     "metadata": {},
     "output_type": "execute_result"
    }
   ],
   "source": [
    "penguins.head()"
   ]
  },
  {
   "cell_type": "code",
   "execution_count": null,
   "metadata": {},
   "outputs": [
    {
     "data": {
      "text/plain": [
       "0.2961771545902131"
      ]
     },
     "execution_count": 29,
     "metadata": {},
     "output_type": "execute_result"
    }
   ],
   "source": [
    "np.mean(predictions)"
   ]
  },
  {
   "cell_type": "code",
   "execution_count": null,
   "metadata": {},
   "outputs": [],
   "source": []
  }
 ],
 "metadata": {
  "interpreter": {
   "hash": "47f28562226f6f52416099fe68bfccf41aa0de90dda40b57fa288bef16bfb653"
  },
  "kernelspec": {
   "name": "python3",
   "display_name": "Python 3.8.5 64-bit ('learn-env': conda)"
  },
  "language_info": {
   "codemirror_mode": {
    "name": "ipython",
    "version": 3
   },
   "file_extension": ".py",
   "mimetype": "text/x-python",
   "name": "python",
   "nbconvert_exporter": "python",
   "pygments_lexer": "ipython3",
   "version": "3.8.5"
  }
 },
 "nbformat": 4,
 "nbformat_minor": 4
}