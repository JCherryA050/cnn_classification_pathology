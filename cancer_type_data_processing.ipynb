{
 "metadata": {
  "language_info": {
   "codemirror_mode": {
    "name": "ipython",
    "version": 3
   },
   "file_extension": ".py",
   "mimetype": "text/x-python",
   "name": "python",
   "nbconvert_exporter": "python",
   "pygments_lexer": "ipython3",
   "version": "3.8.5"
  },
  "orig_nbformat": 4,
  "kernelspec": {
   "name": "python3",
   "display_name": "Python 3.8.5 64-bit ('learn-env': conda)"
  },
  "interpreter": {
   "hash": "47f28562226f6f52416099fe68bfccf41aa0de90dda40b57fa288bef16bfb653"
  }
 },
 "nbformat": 4,
 "nbformat_minor": 2,
 "cells": [
  {
   "cell_type": "code",
   "execution_count": 1,
   "metadata": {},
   "outputs": [],
   "source": [
    "# Standard Imports\n",
    "import numpy as np\n",
    "\n",
    "# Importing all relevant packages for modeling in keras\n",
    "from tensorflow.keras.layers import Dense,Dropout,BatchNormalization,Conv2D,MaxPool2D,Flatten\n",
    "from tensorflow.keras.models import Sequential\n",
    "from tensorflow.keras import regularizers\n",
    "from tensorflow.keras import layers\n",
    "from tensorflow.keras.applications import EfficientNetB0\n",
    "from tensorflow.keras.layers.experimental import preprocessing\n",
    "from tensorflow.keras.models import Sequential\n",
    "from tensorflow.keras import models, layers\n",
    "from tensorflow.keras.optimizers import Adam\n",
    "from tensorflow.keras.preprocessing.image import ImageDataGenerator, array_to_img, img_to_array, load_img\n",
    "from tensorflow.keras.callbacks import ModelCheckpoint, EarlyStopping\n",
    "from tensorflow.keras.models import load_model\n",
    "\n",
    "# Import packages for showing the performance metrics\n",
    "from sklearn.metrics import confusion_matrix\n",
    "\n",
    "from glob import glob\n",
    "import cv2\n",
    "import os, shutil\n",
    "from PIL import Image\n",
    "\n",
    "# Setting the random seed for reproducability\n",
    "np.random.seed(123)"
   ]
  },
  {
   "cell_type": "code",
   "execution_count": 2,
   "metadata": {},
   "outputs": [],
   "source": [
    "adenosis = glob('./data/breast/benign/SOB/adenosis/**/40X/*.png',recursive=True)\n",
    "fibroadenoma = glob('./data/breast/benign/SOB/fibroadenoma/**/40X/*.png',recursive=True)\n",
    "phyllodes_tumor = glob('./data/breast/benign/SOB/phyllodes_tumor/**/40X/*.png',recursive=True)\n",
    "tubular_adenoma = glob('./data/breast/benign/SOB/tubular_adenoma/**/40X/*.png',recursive=True)\n",
    "\n",
    "ductal_carcinoma = glob('./data/breast/malignant/SOB/ductal_carcinoma/**/40X/*.png',recursive=True)\n",
    "lobular_carcinoma = glob('./data/breast/malignant/SOB/lobular_carcinoma/**/40X/*.png',recursive=True)\n",
    "mucinous_carcinoma = glob('./data/breast/malignant/SOB/mucinous_carcinoma/**/40X/*.png',recursive=True)\n",
    "papillary_carcinoma = glob('./data/breast/malignant/SOB/papillary_carcinoma/**/40X/*.png',recursive=True)\n"
   ]
  },
  {
   "cell_type": "code",
   "execution_count": 3,
   "metadata": {},
   "outputs": [],
   "source": [
    "split_path = './data/type_split/'"
   ]
  },
  {
   "cell_type": "code",
   "execution_count": 4,
   "metadata": {},
   "outputs": [
    {
     "output_type": "error",
     "ename": "FileExistsError",
     "evalue": "[WinError 183] Cannot create a file when that file already exists: './data/type_split/'",
     "traceback": [
      "\u001b[1;31m---------------------------------------------------------------------------\u001b[0m",
      "\u001b[1;31mFileExistsError\u001b[0m                           Traceback (most recent call last)",
      "\u001b[1;32m<ipython-input-4-1ffdf0868e08>\u001b[0m in \u001b[0;36m<module>\u001b[1;34m\u001b[0m\n\u001b[1;32m----> 1\u001b[1;33m \u001b[0mos\u001b[0m\u001b[1;33m.\u001b[0m\u001b[0mmkdir\u001b[0m\u001b[1;33m(\u001b[0m\u001b[0msplit_path\u001b[0m\u001b[1;33m)\u001b[0m\u001b[1;33m\u001b[0m\u001b[1;33m\u001b[0m\u001b[0m\n\u001b[0m",
      "\u001b[1;31mFileExistsError\u001b[0m: [WinError 183] Cannot create a file when that file already exists: './data/type_split/'"
     ]
    }
   ],
   "source": [
    "os.mkdir(split_path)"
   ]
  },
  {
   "cell_type": "code",
   "execution_count": 11,
   "metadata": {},
   "outputs": [],
   "source": [
    "split_train_path = './data/type_split/train/'\n",
    "adenosis_train = os.path.join(split_train_path,'adenosis/')\n",
    "fibroadenoma_train = os.path.join(split_train_path,'fibroadenoma/')\n",
    "phyllodes_tumor_train = os.path.join(split_train_path,'phyllodes_tumor/')\n",
    "tubular_adenoma_train = os.path.join(split_train_path,'tubular_adenoma/')\n",
    "\n",
    "ductal_carcinoma_train = os.path.join(split_train_path,'ductal_carcinoma/')\n",
    "lobular_carcinoma_train = os.path.join(split_train_path,'lobular_carcinoma/')\n",
    "mucinous_carcinoma_train = os.path.join(split_train_path,'mucinous_carcinoma/')\n",
    "papillary_carcinoma_train = os.path.join(split_train_path,'papillary_carcinoma/')\n",
    "\n",
    "split_val_path = './data/type_split/validation/'\n",
    "adenosis_val = os.path.join(split_val_path,'adenosis/')\n",
    "fibroadenoma_val = os.path.join(split_val_path,'fibroadenoma/')\n",
    "phyllodes_tumor_val = os.path.join(split_val_path,'phyllodes_tumor/')\n",
    "tubular_adenoma_val = os.path.join(split_val_path,'tubular_adenoma/')\n",
    "\n",
    "ductal_carcinoma_val = os.path.join(split_val_path,'ductal_carcinoma/')\n",
    "lobular_carcinoma_val = os.path.join(split_val_path,'lobular_carcinoma/')\n",
    "mucinous_carcinoma_val = os.path.join(split_val_path,'mucinous_carcinoma/')\n",
    "papillary_carcinoma_val = os.path.join(split_val_path,'papillary_carcinoma/')\n",
    "\n",
    "split_test_path = './data/type_split/test/'\n",
    "adenosis_test = os.path.join(split_test_path,'adenosis/')\n",
    "fibroadenoma_test = os.path.join(split_test_path,'fibroadenoma/')\n",
    "phyllodes_tumor_test = os.path.join(split_test_path,'phyllodes_tumor/')\n",
    "tubular_adenoma_test = os.path.join(split_test_path,'tubular_adenoma/')\n",
    "\n",
    "ductal_carcinoma_test = os.path.join(split_test_path,'ductal_carcinoma/')\n",
    "lobular_carcinoma_test = os.path.join(split_test_path,'lobular_carcinoma/')\n",
    "mucinous_carcinoma_test = os.path.join(split_test_path,'mucinous_carcinoma/')\n",
    "papillary_carcinoma_test = os.path.join(split_test_path,'papillary_carcinoma/')\n"
   ]
  },
  {
   "cell_type": "code",
   "execution_count": 12,
   "metadata": {},
   "outputs": [
    {
     "output_type": "execute_result",
     "data": {
      "text/plain": [
       "'./data/type_split/train/adenosis/'"
      ]
     },
     "metadata": {},
     "execution_count": 12
    }
   ],
   "source": [
    "adenosis_train"
   ]
  },
  {
   "cell_type": "code",
   "execution_count": 10,
   "metadata": {},
   "outputs": [
    {
     "output_type": "error",
     "ename": "FileExistsError",
     "evalue": "[WinError 183] Cannot create a file when that file already exists: './data/type_split/train'",
     "traceback": [
      "\u001b[1;31m---------------------------------------------------------------------------\u001b[0m",
      "\u001b[1;31mFileExistsError\u001b[0m                           Traceback (most recent call last)",
      "\u001b[1;32m<ipython-input-10-be0baa632eff>\u001b[0m in \u001b[0;36m<module>\u001b[1;34m\u001b[0m\n\u001b[1;32m----> 1\u001b[1;33m \u001b[0mos\u001b[0m\u001b[1;33m.\u001b[0m\u001b[0mmkdir\u001b[0m\u001b[1;33m(\u001b[0m\u001b[0msplit_train_path\u001b[0m\u001b[1;33m)\u001b[0m\u001b[1;33m\u001b[0m\u001b[1;33m\u001b[0m\u001b[0m\n\u001b[0m\u001b[0;32m      2\u001b[0m \u001b[0mos\u001b[0m\u001b[1;33m.\u001b[0m\u001b[0mmkdir\u001b[0m\u001b[1;33m(\u001b[0m\u001b[0madenosis_train\u001b[0m\u001b[1;33m)\u001b[0m\u001b[1;33m\u001b[0m\u001b[1;33m\u001b[0m\u001b[0m\n\u001b[0;32m      3\u001b[0m \u001b[0mos\u001b[0m\u001b[1;33m.\u001b[0m\u001b[0mmkdir\u001b[0m\u001b[1;33m(\u001b[0m\u001b[0mfibroadenoma_train\u001b[0m\u001b[1;33m)\u001b[0m\u001b[1;33m\u001b[0m\u001b[1;33m\u001b[0m\u001b[0m\n\u001b[0;32m      4\u001b[0m \u001b[0mos\u001b[0m\u001b[1;33m.\u001b[0m\u001b[0mmkdir\u001b[0m\u001b[1;33m(\u001b[0m\u001b[0mphyllodes_tumor_train\u001b[0m\u001b[1;33m)\u001b[0m\u001b[1;33m\u001b[0m\u001b[1;33m\u001b[0m\u001b[0m\n\u001b[0;32m      5\u001b[0m \u001b[0mos\u001b[0m\u001b[1;33m.\u001b[0m\u001b[0mmkdir\u001b[0m\u001b[1;33m(\u001b[0m\u001b[0mtubular_adenoma_train\u001b[0m \u001b[1;33m)\u001b[0m\u001b[1;33m\u001b[0m\u001b[1;33m\u001b[0m\u001b[0m\n",
      "\u001b[1;31mFileExistsError\u001b[0m: [WinError 183] Cannot create a file when that file already exists: './data/type_split/train'"
     ]
    }
   ],
   "source": [
    "os.mkdir(split_train_path)\n",
    "os.mkdir(adenosis_train)\n",
    "os.mkdir(fibroadenoma_train)\n",
    "os.mkdir(phyllodes_tumor_train)\n",
    "os.mkdir(tubular_adenoma_train )\n",
    "\n",
    "os.mkdir(ductal_carcinoma_train)\n",
    "os.mkdir(lobular_carcinoma_train )\n",
    "os.mkdir(mucinous_carcinoma_train )\n",
    "os.mkdir(papillary_carcinoma_train )\n",
    "\n",
    "os.mkdir(split_val_path )\n",
    "os.mkdir(adenosis_val)\n",
    "os.mkdir(fibroadenoma_val )\n",
    "os.mkdir(phyllodes_tumor_val )\n",
    "os.mkdir(tubular_adenoma_val )\n",
    "\n",
    "os.mkdir(ductal_carcinoma_val )\n",
    "os.mkdir(lobular_carcinoma_val )\n",
    "os.mkdir(mucinous_carcinoma_val)\n",
    "os.mkdir(papillary_carcinoma_val )\n",
    "\n",
    "os.mkdir(split_test_path)\n",
    "os.mkdir(adenosis_test)\n",
    "os.mkdir(fibroadenoma_test )\n",
    "os.mkdir(phyllodes_tumor_test)\n",
    "os.mkdir(tubular_adenoma_test)\n",
    "\n",
    "os.mkdir(ductal_carcinoma_test)\n",
    "os.mkdir(lobular_carcinoma_test )\n",
    "os.mkdir(mucinous_carcinoma_test )\n",
    "os.mkdir(papillary_carcinoma_test )"
   ]
  },
  {
   "cell_type": "code",
   "execution_count": 20,
   "metadata": {},
   "outputs": [],
   "source": [
    "imgs = adenosis[:int(np.round(len(adenosis)*0.6,0))]\n"
   ]
  },
  {
   "cell_type": "code",
   "execution_count": 26,
   "metadata": {},
   "outputs": [],
   "source": [
    "# train\n",
    "imgs = adenosis[:int(np.round(len(adenosis)*0.6,0))]\n",
    "for img in imgs:\n",
    "    shutil.copy(img, adenosis_train)\n",
    "\n",
    "# validation\n",
    "imgs = adenosis[int(np.round(len(adenosis)*0.6,0)):int(np.round(len(adenosis)*0.8,0))]\n",
    "for img in imgs:\n",
    "    shutil.copy(img, adenosis_val)\n",
    "\n",
    "# test\n",
    "imgs = adenosis[int(np.round(len(adenosis)*0.8,0)):]\n",
    "for img in imgs:\n",
    "    shutil.copy(img, adenosis_test)"
   ]
  },
  {
   "cell_type": "code",
   "execution_count": 28,
   "metadata": {},
   "outputs": [],
   "source": [
    "# train\n",
    "imgs = fibroadenoma[:int(np.round(len(fibroadenoma)*0.6,0))]\n",
    "for img in imgs:\n",
    "    shutil.copy(img, fibroadenoma_train)\n",
    "\n",
    "# validation\n",
    "imgs = fibroadenoma[int(np.round(len(fibroadenoma)*0.6,0)):int(np.round(len(fibroadenoma)*0.8,0))]\n",
    "for img in imgs:\n",
    "    shutil.copy(img, fibroadenoma_val)\n",
    "\n",
    "# test\n",
    "imgs = fibroadenoma[int(np.round(len(fibroadenoma)*0.8,0)):]\n",
    "for img in imgs:\n",
    "    shutil.copy(img, fibroadenoma_test)"
   ]
  },
  {
   "cell_type": "code",
   "execution_count": 29,
   "metadata": {},
   "outputs": [],
   "source": [
    "# train\n",
    "imgs = phyllodes_tumor[:int(np.round(len(phyllodes_tumor)*0.6,0))]\n",
    "for img in imgs:\n",
    "    shutil.copy(img, phyllodes_tumor_train)\n",
    "\n",
    "# validation\n",
    "imgs = phyllodes_tumor[int(np.round(len(phyllodes_tumor)*0.6,0)):int(np.round(len(phyllodes_tumor)*0.8,0))]\n",
    "for img in imgs:\n",
    "    shutil.copy(img, phyllodes_tumor_val)\n",
    "\n",
    "# test\n",
    "imgs = phyllodes_tumor[int(np.round(len(phyllodes_tumor)*0.8,0)):]\n",
    "for img in imgs:\n",
    "    shutil.copy(img, phyllodes_tumor_test)"
   ]
  },
  {
   "cell_type": "code",
   "execution_count": 30,
   "metadata": {},
   "outputs": [],
   "source": [
    "# train\n",
    "imgs = tubular_adenoma[:int(np.round(len(tubular_adenoma)*0.6,0))]\n",
    "for img in imgs:\n",
    "    shutil.copy(img, tubular_adenoma_train)\n",
    "\n",
    "# validation\n",
    "imgs = tubular_adenoma[int(np.round(len(tubular_adenoma)*0.6,0)):int(np.round(len(tubular_adenoma)*0.8,0))]\n",
    "for img in imgs:\n",
    "    shutil.copy(img, tubular_adenoma_val)\n",
    "\n",
    "# test\n",
    "imgs = tubular_adenoma[int(np.round(len(tubular_adenoma)*0.8,0)):]\n",
    "for img in imgs:\n",
    "    shutil.copy(img, tubular_adenoma_test)"
   ]
  },
  {
   "cell_type": "code",
   "execution_count": 31,
   "metadata": {},
   "outputs": [],
   "source": [
    "# train\n",
    "imgs = ductal_carcinoma[:int(np.round(len(ductal_carcinoma)*0.6,0))]\n",
    "for img in imgs:\n",
    "    shutil.copy(img, ductal_carcinoma_train)\n",
    "\n",
    "# validation\n",
    "imgs = ductal_carcinoma[int(np.round(len(ductal_carcinoma)*0.6,0)):int(np.round(len(ductal_carcinoma)*0.8,0))]\n",
    "for img in imgs:\n",
    "    shutil.copy(img, ductal_carcinoma_val)\n",
    "\n",
    "# test\n",
    "imgs = ductal_carcinoma[int(np.round(len(ductal_carcinoma)*0.8,0)):]\n",
    "for img in imgs:\n",
    "    shutil.copy(img, ductal_carcinoma_test)"
   ]
  },
  {
   "cell_type": "code",
   "execution_count": 32,
   "metadata": {},
   "outputs": [],
   "source": [
    "# train\n",
    "imgs = lobular_carcinoma[:int(np.round(len(lobular_carcinoma)*0.6,0))]\n",
    "for img in imgs:\n",
    "    shutil.copy(img, lobular_carcinoma_train)\n",
    "\n",
    "# validation\n",
    "imgs = lobular_carcinoma[int(np.round(len(lobular_carcinoma)*0.6,0)):int(np.round(len(lobular_carcinoma)*0.8,0))]\n",
    "for img in imgs:\n",
    "    shutil.copy(img, lobular_carcinoma_val)\n",
    "\n",
    "# test\n",
    "imgs = lobular_carcinoma[int(np.round(len(lobular_carcinoma)*0.8,0)):]\n",
    "for img in imgs:\n",
    "    shutil.copy(img, lobular_carcinoma_test)"
   ]
  },
  {
   "cell_type": "code",
   "execution_count": 33,
   "metadata": {},
   "outputs": [],
   "source": [
    "# train\n",
    "imgs = mucinous_carcinoma[:int(np.round(len(mucinous_carcinoma)*0.6,0))]\n",
    "for img in imgs:\n",
    "    shutil.copy(img, mucinous_carcinoma_train)\n",
    "\n",
    "# validation\n",
    "imgs = mucinous_carcinoma[int(np.round(len(mucinous_carcinoma)*0.6,0)):int(np.round(len(mucinous_carcinoma)*0.8,0))]\n",
    "for img in imgs:\n",
    "    shutil.copy(img, mucinous_carcinoma_val)\n",
    "\n",
    "# test\n",
    "imgs = mucinous_carcinoma[int(np.round(len(mucinous_carcinoma)*0.8,0)):]\n",
    "for img in imgs:\n",
    "    shutil.copy(img, mucinous_carcinoma_test)"
   ]
  },
  {
   "cell_type": "code",
   "execution_count": 34,
   "metadata": {},
   "outputs": [],
   "source": [
    "# train\n",
    "imgs = papillary_carcinoma[:int(np.round(len(papillary_carcinoma)*0.6,0))]\n",
    "for img in imgs:\n",
    "    shutil.copy(img, papillary_carcinoma_train)\n",
    "\n",
    "# validation\n",
    "imgs = papillary_carcinoma[int(np.round(len(papillary_carcinoma)*0.6,0)):int(np.round(len(papillary_carcinoma)*0.8,0))]\n",
    "for img in imgs:\n",
    "    shutil.copy(img, papillary_carcinoma_val)\n",
    "\n",
    "# test\n",
    "imgs = papillary_carcinoma[int(np.round(len(papillary_carcinoma)*0.8,0)):]\n",
    "for img in imgs:\n",
    "    shutil.copy(img, papillary_carcinoma_test)"
   ]
  },
  {
   "cell_type": "code",
   "execution_count": null,
   "metadata": {},
   "outputs": [],
   "source": [
    "os.mkdir(adenosis_train)\n",
    "os.mkdir(fibroadenoma_train)\n",
    "os.mkdir(phyllodes_tumor_train)\n",
    "os.mkdir(tubular_adenoma_train )\n",
    "\n",
    "os.mkdir(ductal_carcinoma_train)\n",
    "os.mkdir(lobular_carcinoma_train )\n",
    "os.mkdir(mucinous_carcinoma_train )\n",
    "os.mkdir(papillary_carcinoma_train )\n",
    "\n",
    "os.mkdir(split_val_path )\n",
    "os.mkdir(adenosis_val)\n",
    "os.mkdir(fibroadenoma_val )\n",
    "os.mkdir(phyllodes_tumor_val )\n",
    "os.mkdir(tubular_adenoma_val )\n",
    "\n",
    "os.mkdir(ductal_carcinoma_val )\n",
    "os.mkdir(lobular_carcinoma_val )\n",
    "os.mkdir(mucinous_carcinoma_val)\n",
    "os.mkdir(papillary_carcinoma_val )\n",
    "\n",
    "os.mkdir(split_test_path)\n",
    "os.mkdir(adenosis_test)\n",
    "os.mkdir(fibroadenoma_test )\n",
    "os.mkdir(phyllodes_tumor_test)\n",
    "os.mkdir(tubular_adenoma_test)\n",
    "\n",
    "os.mkdir(ductal_carcinoma_test)\n",
    "os.mkdir(lobular_carcinoma_test )\n",
    "os.mkdir(mucinous_carcinoma_test )\n",
    "os.mkdir(papillary_carcinoma_test )"
   ]
  },
  {
   "cell_type": "code",
   "execution_count": 36,
   "metadata": {},
   "outputs": [
    {
     "output_type": "stream",
     "name": "stdout",
     "text": [
      "There are 68 IDC-positive images in the training set.\nThere are 152 IDC-negative images in the training set.\nThere are 65 IDC-positive images in the training set.\nThere are 89 IDC-negative images in the training set.\nThere are 518 IDC-positive images in the training set.\nThere are 94 IDC-negative images in the training set.\nThere are 123 IDC-positive images in the training set.\nThere are 87 IDC-negative images in the training set.\n\nThere are 23 IDC-positive images in the validation set.\nThere are 101 IDC-negative images in the validation set.\nThere are 22 IDC-positive images in the validation set.\nThere are 30 IDC-negative images in the validation set.\nThere are 173 IDC-positive images in the validation set.\nThere are 31 IDC-negative images in the validation set.\nThere are 41 IDC-positive images in the validation set.\nThere are 29 IDC-negative images in the validation set.\n\nThere are 23 IDC-positive images in the test set.\nThere are 51 IDC-negative images in the test set.\nThere are 22 IDC-positive images in the test set.\nThere are 30 IDC-negative images in the test set.\nThere are 173 IDC-positive images in the test set.\nThere are 31 IDC-negative images in the test set.\nThere are 41 IDC-positive images in the test set.\nThere are 29 IDC-negative images in the test set.\n"
     ]
    }
   ],
   "source": [
    "print('There are', len(os.listdir(adenosis_train)), 'IDC-positive images in the training set.')\n",
    "print('There are', len(os.listdir(fibroadenoma_train)), 'IDC-negative images in the training set.')\n",
    "print('There are', len(os.listdir(phyllodes_tumor_train)), 'IDC-positive images in the training set.')\n",
    "print('There are', len(os.listdir(tubular_adenoma_train)), 'IDC-negative images in the training set.')\n",
    "print('There are', len(os.listdir(ductal_carcinoma_train)), 'IDC-positive images in the training set.')\n",
    "print('There are', len(os.listdir(lobular_carcinoma_train)), 'IDC-negative images in the training set.')\n",
    "print('There are', len(os.listdir(mucinous_carcinoma_train)), 'IDC-positive images in the training set.')\n",
    "print('There are', len(os.listdir(papillary_carcinoma_train)), 'IDC-negative images in the training set.\\n')\n",
    "\n",
    "print('There are', len(os.listdir(adenosis_val)), 'IDC-positive images in the validation set.')\n",
    "print('There are', len(os.listdir(fibroadenoma_val)), 'IDC-negative images in the validation set.')\n",
    "print('There are', len(os.listdir(phyllodes_tumor_val)), 'IDC-positive images in the validation set.')\n",
    "print('There are', len(os.listdir(tubular_adenoma_val)), 'IDC-negative images in the validation set.')\n",
    "print('There are', len(os.listdir(ductal_carcinoma_val)), 'IDC-positive images in the validation set.')\n",
    "print('There are', len(os.listdir(lobular_carcinoma_val)), 'IDC-negative images in the validation set.')\n",
    "print('There are', len(os.listdir(mucinous_carcinoma_val)), 'IDC-positive images in the validation set.')\n",
    "print('There are', len(os.listdir(papillary_carcinoma_val)), 'IDC-negative images in the validation set.\\n')\n",
    "\n",
    "\n",
    "print('There are', len(os.listdir(adenosis_test)), 'IDC-positive images in the test set.')\n",
    "print('There are', len(os.listdir(fibroadenoma_test)), 'IDC-negative images in the test set.')\n",
    "print('There are', len(os.listdir(phyllodes_tumor_test)), 'IDC-positive images in the test set.')\n",
    "print('There are', len(os.listdir(tubular_adenoma_test)), 'IDC-negative images in the test set.')\n",
    "print('There are', len(os.listdir(ductal_carcinoma_test)), 'IDC-positive images in the test set.')\n",
    "print('There are', len(os.listdir(lobular_carcinoma_test)), 'IDC-negative images in the test set.')\n",
    "print('There are', len(os.listdir(mucinous_carcinoma_test)), 'IDC-positive images in the test set.')\n",
    "print('There are', len(os.listdir(papillary_carcinoma_test)), 'IDC-negative images in the test set.')"
   ]
  },
  {
   "cell_type": "code",
   "execution_count": null,
   "metadata": {},
   "outputs": [],
   "source": []
  }
 ]
}